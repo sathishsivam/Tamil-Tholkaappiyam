{
  "nbformat": 4,
  "nbformat_minor": 0,
  "metadata": {
    "colab": {
      "provenance": []
    },
    "kernelspec": {
      "name": "python3",
      "display_name": "Python 3"
    },
    "language_info": {
      "name": "python"
    }
  },
  "cells": [
    {
      "cell_type": "code",
      "source": [
        "!pip install tholkaappiyam"
      ],
      "metadata": {
        "colab": {
          "base_uri": "https://localhost:8080/"
        },
        "id": "wXxXb-qP1uVW",
        "outputId": "4827f108-831c-43ea-833c-df4847da2d42"
      },
      "execution_count": null,
      "outputs": [
        {
          "output_type": "stream",
          "name": "stdout",
          "text": [
            "Looking in indexes: https://pypi.org/simple, https://us-python.pkg.dev/colab-wheels/public/simple/\n",
            "Collecting tholkaappiyam\n",
            "  Downloading tholkaappiyam-0.0.1-py3-none-any.whl (179 kB)\n",
            "\u001b[2K     \u001b[90m━━━━━━━━━━━━━━━━━━━━━━━━━━━━━━━━━━━━━━━\u001b[0m \u001b[32m179.8/179.8 kB\u001b[0m \u001b[31m4.0 MB/s\u001b[0m eta \u001b[36m0:00:00\u001b[0m\n",
            "\u001b[?25hInstalling collected packages: tholkaappiyam\n",
            "Successfully installed tholkaappiyam-0.0.1\n"
          ]
        }
      ]
    },
    {
      "cell_type": "code",
      "source": [
        "from tholkaappiyam import thol"
      ],
      "metadata": {
        "id": "6HLoX0Xn13As"
      },
      "execution_count": null,
      "outputs": []
    },
    {
      "cell_type": "code",
      "source": [
        "thol.about_tholkaappiyam()"
      ],
      "metadata": {
        "colab": {
          "base_uri": "https://localhost:8080/"
        },
        "id": "ZaEBLrvm2HAE",
        "outputId": "cd9ad9f3-866c-4d3b-b4db-5b13076f4fc6"
      },
      "execution_count": null,
      "outputs": [
        {
          "output_type": "stream",
          "name": "stdout",
          "text": [
            "\n",
            "\n",
            "Tolkāpiyam (tholkaappiyam) is an endeavour on the grammar of the Tamil vernacular and the initial extant work of Tamil publications and linguistics.\n",
            "It is the most ancient extanct of Tamil Grammar Text and the oldest extant long work of Tamil literature\n",
            "\n",
            "\n",
            "It has 3 adhikaaram (volumes) namely:\n",
            "1. எழுத்ததிகாரம் \n",
            "2. சொல்லதிகாரம்\n",
            "3. பொருளதிகாரம்\n",
            "\n",
            "Each adhikaaram has 9 iyals (chapters)\n",
            "Under each iyal, you will be having certain number of sutras or songs.\n",
            "\n",
            "P. S. Subrahmanya Sastri (1890-1978) was a Sanskrit scholar well versed with Tamil Grammar.\n",
            "He was the First person to Translate tholkaappiyam into English.\n",
            "\n",
            "    \n"
          ]
        }
      ]
    },
    {
      "cell_type": "code",
      "source": [
        "thol.display_adhikaaram()"
      ],
      "metadata": {
        "colab": {
          "base_uri": "https://localhost:8080/"
        },
        "id": "R6YAzC9X2MWm",
        "outputId": "1d7a4663-6f03-4d32-dd54-bcc9a26bd9db"
      },
      "execution_count": null,
      "outputs": [
        {
          "output_type": "stream",
          "name": "stdout",
          "text": [
            "|    | அதிகாரம்     | Volume                           |\n",
            "|---:|:------------|:---------------------------------|\n",
            "|  1 | எழுத்ததிகாரம் | Phonology and Morphophonemics    |\n",
            "|  2 | சொல்லதிகாரம்  | Morphology, Syntax and Semantics |\n",
            "|  3 | பொருளதிகாரம் | Semantics and Poetics            |\n"
          ]
        }
      ]
    },
    {
      "cell_type": "code",
      "source": [
        "thol.display_iyal(1)"
      ],
      "metadata": {
        "colab": {
          "base_uri": "https://localhost:8080/"
        },
        "id": "Zy_WESbK2U0W",
        "outputId": "8cd4e0bb-9e51-4a4b-c831-adbdfb9f8234"
      },
      "execution_count": null,
      "outputs": [
        {
          "output_type": "stream",
          "name": "stdout",
          "text": [
            "எழுத்ததிகாரம்  : Phonology and Morphophonemics \n",
            "\n",
            "|    | இயல்                | Chapters                                 |\n",
            "|---:|:-------------------|:-----------------------------------------|\n",
            "|  1 | நூல் மரபு           | Conventions of Phonology and Orthography |\n",
            "|  2 | மொழிமரபு           | Morphophonemics                          |\n",
            "|  3 | பிறப்பியல்           | Production of speech sounds              |\n",
            "|  4 | புணரியல்            | Morphophonemic Coalescence               |\n",
            "|  5 | தொகைமரபு           | Coalescence and Compounding              |\n",
            "|  6 | உருபியல்            | Case Morphemes                           |\n",
            "|  7 | உயிர்மயங்கியல்        | Vowel Coalescence                        |\n",
            "|  8 | புள்ளிமயங்கியல்       | Consonant Coalescence                    |\n",
            "|  9 | குற்றியலுகரப்புணரியல் | Shortened /u/ - Coalescence              |\n"
          ]
        }
      ]
    },
    {
      "cell_type": "code",
      "source": [
        "thol.display_tholkaapiyar()"
      ],
      "metadata": {
        "colab": {
          "base_uri": "https://localhost:8080/"
        },
        "id": "n9IHYq5L2crQ",
        "outputId": "9b81a626-ab2a-46cf-e4d0-b08fa4f24344"
      },
      "execution_count": null,
      "outputs": [
        {
          "output_type": "stream",
          "name": "stdout",
          "text": [
            "\n",
            "        \n",
            "*%%%%%%%%%%%%%%%*%%*%%*%%*%******%%****%******%$%%%%$%%%%$%%$%$$%$$%$$%@%$$$$$%$\n",
            "**%%%%*%*%%%%%%%%%%*%%%%*%%*%**%****%%%%*%%%$$%$%%$%%%%$%%$%$$$$$$@$$%$$%$$%$%%$\n",
            "%%%*%%*%%%%%%%*%*%%*%%*%*%%*%**%%$$$$$@$$$$$%$$$%%%%$%$$%$%%$$$$$$$%$$%$%%$%$%%$\n",
            "*%%%%%%%*%%*%%%%*%%*%%*%*%%%$$$$$$$%%$%$@$$@$$$$$$$%%%%%*$%%$$%$%$$%%%$$%%%%$%%%\n",
            "*%%%%**%*%%*%%%%*%%*%%**%$$$%%*%%$$@$$@@&&&&&&@@@%$$%%%$%$@%$$%%%$$%%%%$%%%%%%%%\n",
            "**%%%%*%**%*%*%%**%*%*%$$%*%%$$@$$$$@@@@&&&&&&&@@@@$@%%%$$$$%%%%%%$$%%*%*%%*%**%\n",
            "**%%%**%**%*%%*%*%%*%$$%*$$@@@&@&&@&@@@@%@&&&&&&&&@@@@$%$$$@$$%%%%%%%%*%*%$%%%*%\n",
            "**%*%%*%**%%%*%%%%%$$%%$@@@@@@@@@@&&&&&&@$&&&&&&&&&&&@@@@@@%$@$$*$%%%%*%%%$%$%$@\n",
            "*%%%%**%**%*%%%%*%$%%%$@@$@@@@@@@@@@@@&&&@&&&&@@@@@@@@@@@@@@%%@$%$$%$$%$%$$%$$$@\n",
            "**%*%*****%*%%*%%$**%$$$$$$$%**!!!!!!*%$@&@%**!!!!!!!*%$@@@@$*%@$%%%%%%$%%%%%%%$\n",
            "%%%*%%*%**%*%*%*$%*%$$$$$%*!:::::::::::::!:::::::::::::*$$@@***%@%$%$%%$%%%%%%%@\n",
            "**%*%%*%****%**%%*%%%%$%*!::::::::::::::::::::::::::::::*%$@$***$@$$$%%$%$%%$%%%\n",
            "%*%*%%*%%*%*%*%$%**$$@$*!:::::::::::::::::::::::.::::::::*$@&@%%$@$*%%*%*%%*%*%%\n",
            "*%%*%**%**%*%*$%!*$@@@%!!**%%%%*!::.:::::::::::!%%%$$%%%**%@&@$%$@@*%**%*%**%%$$\n",
            "**%*%%****%*%*$%%$@@@$%$%%*!!*%%$$$%!:::::::!%@@%*!:::!*%%$@&@$$$@@*%**%*****%*%\n",
            "*%**%%*%%*%*%%$%@@$$@@$%*!:::!!!!*%$@%!::::*$@%*!!!!!:::!*$@&@$$@&&%%**%***%%**%\n",
            "**%*%%**%*%*%$$$@@@$@$%*!!!!!*******%$%*!!*$%**%*%%$%%*!!!%@&@@@@@&%%**%****%**%\n",
            "**%*%%*%**%*%$$%%%$@@$***%%$$@@@$$$%%$$$!!%$%%$$@@&&@%$%**%@&&%%$$@$%**%**%%%*%%\n",
            "**%*%%*%*%%*%%%*$%%@@$**%@**$$$$**@@%$$%!!%$$@$!$$&$%!*$%*%@&$%$%%$@%%%$%%%%%%*%\n",
            "**%*%%*%**%*%%$%%$$$@@***%!!**!!:!*!!!!:::!***!!:!!!:::::!*@&$@$$%$@**********%&\n",
            "**%*%*****%*%%%%%%$@@@%!!:::!!!:::::::!::::!::::!!!::::::!!@&@$%%$$@%%%%%$$%$$@$\n",
            "**%*%%*%%*%*%$%$%*%$@$!!!::::::::::::!!::::::::::::::::::!*&@$%*@$@@%%%$%%$%$$$$\n",
            "**%*%%*%%*%*%$%$%*%$@$!!!:::::::::::!!!::::::::::::::::::!%&$%*%@@$@%**%%*%*%*%@\n",
            "**%*%%*%%*%*%$%$$*%*$$*!!:::::::::::!*!::::::::::::::::::!*&%$%%&@@@$%%%**%*%*%$\n",
            "**%*%%*%%*%*$$$@$%%*%$*!!::::::::::!**!:::::!!::::::::::!!*$%$*$&@@@$%%$*%%*%%*%\n",
            "*****%**%*%*$$@@$*%%*%*!!!:::::::::*%%%!!!%%%*::::::::::!!%%$$%@&&@&@$*%%%%*%%*$\n",
            "**%*%**%***$$$@@@%%$%%%!!!!:::::::*$@$@$%$@@@$*:::::::::!*$$$@%@&@@&@$%$%%%%%%%$\n",
            "**%*%%***%*$$@@@@$$$%$$!!!!:::::*$@@@@@@@&&&&@&@%::::::!!%@$%*!@&&@@&@%$%$$%$$%$\n",
            "**%**%*%%*%$$@@@@$%%%$@*!!!**!!%&&&&&@@@@@@&&&&&&@!*%!!!!@@$%*!@&&@@@@*$%%%%%%%%\n",
            "**%*%%*%*%$$@@@@@@***%@$*!$&&@$@&&@@@$%%$%$%$$@@@&&&&$!*%&$$$**@&&&@@@%%*%**%%*%\n",
            "**%*%%*%%@$@@@@@@@%$*%$@%!%@@@@@$%**%%****%%*::!%$@@$*!*@@$%@$!$&&&@&@@%**%*%%%%\n",
            "**%%%%*%$@@@@@@@@@%%%$@@@%!**%*!!!:!*$@$$$@$!:::::!!!!*$&@$$%%*$&&&@@@&%**%*%%*%\n",
            "**%$%**$@@@@@@@@@@%*%%@@@@$*!!!!!:::!*%%$$%!!:::::!**%@&&@$%$$%$&&&&@&&@%%**%%*%\n",
            "**%%@@@@@$@@@@@@$*!***%@&&@$%***!!!!!**::!*!!!!!!*%%$&&&@!!!!%%!$&@@@&&@@*%*$%*%\n",
            "**%*%$$$%$@@@@@@!*!!**%%@@@$%$$%%****%%*!******%%%$*%&@&%!%*!$%%%&&&@@@&&$%@@%*$\n",
            "*$%***$$@@@@@@@$%%%%%%%%$@@$%%%%$$$$%%$$$$$$$$$%*!::*@@&$%%$$$$$@&&&&@&@&&&&$%*$\n",
            "%$$$$$@@@@@$@@$$%%**%%%%@@@%*!***%%%%%%%%%%%**!!::::!@&&@*%**$%*@#&&&@@&&@&&$$$@\n",
            "$$@@@@@@@$$@@$%@$*****%$@@@*!!!!!!!!!!!!!::::::::::::$&&&&$%%$@@&&&&&&&&&&@&&@$$\n",
            "%$@@@@@@$$@@$$@@@@$$$@@$%@$!!!!!!!!!!::::::::::::::::*@@@@&&&&@$*$@&&%*!::!%$%%@\n",
            "**%$$$$@@@$$$@@@@@$@@%*%%@%!!!!!!!!::::::::::::::.::::$%*%$*@@@%::*!%***!:::*$%@\n",
            "**%@$@@@@$@@$@$@$*!*!!*%*$*!!!!!!:!::::::::::::::.:::!%*%$**!!$%*.!*.!*%%!:**%$%\n",
            "*%$@@@$$$%***$%*!!!!!!*$**!!!!!:::!:::::::::::::::::!***@%**::%%$:.!:.!**%!:**%*\n",
            "*%%%*!!!!::!%%*!!!!!!!!%%***!!!!!:!!:::::::::::::::!***$$**!.:%%$*.:*:.!**%:!%*%\n",
            ":!!!:::::::!$**!!::!!!!!$$***!!!!!!:::::::::::::::!%**$$**!::*%*%*::!!::%**%:*!%\n",
            "\n"
          ]
        }
      ]
    },
    {
      "cell_type": "code",
      "source": [
        "thol.Paadal(1,1,1)"
      ],
      "metadata": {
        "colab": {
          "base_uri": "https://localhost:8080/"
        },
        "id": "2UXCtpz52pVs",
        "outputId": "ac895469-4e5b-44b0-daa5-6547c2a8c826"
      },
      "execution_count": null,
      "outputs": [
        {
          "output_type": "execute_result",
          "data": {
            "text/plain": [
              "<tholkaappiyam.thol.Paadal at 0x7f58dbd31210>"
            ]
          },
          "metadata": {},
          "execution_count": 7
        }
      ]
    },
    {
      "cell_type": "code",
      "source": [],
      "metadata": {
        "id": "mWADeFKb2zev"
      },
      "execution_count": null,
      "outputs": []
    }
  ]
}